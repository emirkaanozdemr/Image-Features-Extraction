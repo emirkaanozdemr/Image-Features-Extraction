{
 "cells": [
  {
   "cell_type": "markdown",
   "id": "624e7635",
   "metadata": {},
   "source": [
    "# Image Features Extraction"
   ]
  },
  {
   "cell_type": "markdown",
   "id": "6c0772c5",
   "metadata": {},
   "source": [
    "In that project I will explain some ways of extracting features from images."
   ]
  },
  {
   "cell_type": "code",
   "execution_count": 1,
   "id": "e252c815",
   "metadata": {},
   "outputs": [],
   "source": [
    "import cv2\n",
    "import numpy as np\n",
    "import matplotlib.pyplot as plt"
   ]
  },
  {
   "cell_type": "code",
   "execution_count": 3,
   "id": "bc6563cb",
   "metadata": {},
   "outputs": [],
   "source": [
    "#Displaying original and grayscale versions of an image\n",
    "image=cv2.imread(\"image.jpg\")\n",
    "cv2.imshow('original',image)\n",
    "cv2.waitKey()\n",
    "gray_image=cv2.cvtColor(image,cv2.COLOR_BGR2GRAY)\n",
    "cv2.imshow('Grayscale',gray_image)\n",
    "cv2.waitKey()\n",
    "cv2.destroyAllWindows()"
   ]
  },
  {
   "cell_type": "code",
   "execution_count": 4,
   "id": "cf3ea593",
   "metadata": {},
   "outputs": [],
   "source": [
    "#Reading image as grayscale\n",
    "image=cv2.imread(\"image.jpg\",0)\n",
    "cv2.imshow('BW',image)\n",
    "cv2.waitKey()\n",
    "cv2.destroyAllWindows()"
   ]
  },
  {
   "cell_type": "code",
   "execution_count": 5,
   "id": "8b294c90",
   "metadata": {},
   "outputs": [
    {
     "name": "stdout",
     "output_type": "stream",
     "text": [
      "188 179 175\n"
     ]
    }
   ],
   "source": [
    "#Red Green and Blue values\n",
    "import random\n",
    "n=random.randint(0,255)\n",
    "n2=random.randint(0,255)\n",
    "image=cv2.imread(\"image.jpg\")\n",
    "B,G,R=image[n,n2]\n",
    "print(B,G,R)"
   ]
  },
  {
   "cell_type": "code",
   "execution_count": 10,
   "id": "46a575f0",
   "metadata": {},
   "outputs": [
    {
     "data": {
      "text/plain": [
       "32"
      ]
     },
     "execution_count": 10,
     "metadata": {},
     "output_type": "execute_result"
    }
   ],
   "source": [
    "image = cv2.imread('image.jpg')\n",
    "height,width = image.shape[:2]\n",
    "\n",
    "sobel_x = cv2.Sobel(image,cv2.CV_64F,0,1,ksize = 5)\n",
    "sobel_y = cv2.Sobel(image,cv2.CV_64F,1,0,ksize = 5)\n",
    "\n",
    "cv2.imshow(\"Original Image\",image)\n",
    "cv2.waitKey(0)\n",
    "cv2.imshow('Sobel X',sobel_x)\n",
    "cv2.waitKey(0)\n",
    "cv2.imshow('Sobel Y',sobel_y)\n",
    "cv2.waitKey(0)\n",
    "sobel_OR=cv2.bitwise_or(sobel_x,sobel_y)\n",
    "cv2.imshow(\"sobel_OR\",sobel_OR)\n",
    "cv2.waitKey(0)"
   ]
  },
  {
   "cell_type": "code",
   "execution_count": 11,
   "id": "5c339af1",
   "metadata": {},
   "outputs": [],
   "source": [
    "image = cv2.imread('image.jpg',0)\n",
    "\n",
    "height,width = image.shape[:2]\n",
    "\n",
    "sobel_x = cv2.Sobel(image,cv2.CV_64F,0,1,ksize = 5)\n",
    "sobel_y = cv2.Sobel(image,cv2.CV_64F,1,0,ksize = 5)\n",
    "\n",
    "cv2.imshow('Original Image',image)\n",
    "cv2.waitKey(0)\n",
    "cv2.imshow('Sobel X',sobel_x)\n",
    "cv2.waitKey(0)\n",
    "cv2.imshow('Sobel Y',sobel_y)\n",
    "cv2.waitKey(0)\n",
    "\n",
    "sobel_OR = cv2.bitwise_or(sobel_x,sobel_y)\n",
    "cv2.imshow('sobel_OR',sobel_OR)\n",
    "cv2.waitKey(0)\n",
    "\n",
    "laplacian = cv2.Laplacian(image,cv2.CV_64F)\n",
    "cv2.imshow('Laplacian',laplacian)\n",
    "cv2.waitKey(0)\n",
    "\n",
    "canny = cv2.Canny(image,50,120)\n",
    "cv2.imshow('Canny',canny)\n",
    "cv2.waitKey(0)\n",
    " \n",
    "\n",
    "cv2.destroyAllWindows()"
   ]
  },
  {
   "cell_type": "code",
   "execution_count": 12,
   "id": "905a0b0d",
   "metadata": {},
   "outputs": [],
   "source": [
    "image=cv2.imread(\"image.jpg\")\n",
    "flipped=cv2.flip(image,0)\n",
    "cv2.imshow(\"Vertical Flipp\",flipped)\n",
    "\n",
    "flipped=cv2.flip(image,1)\n",
    "cv2.imshow(\"Horizontal Flip\",flipped)\n",
    "flipped=cv2.flip(image,2)\n",
    "cv2.imshow(\"Both Flip\",flipped)\n",
    "\n",
    "cv2.waitKey()\n",
    "cv2.destroyAllWindows()"
   ]
  },
  {
   "cell_type": "code",
   "execution_count": 19,
   "id": "5526de08",
   "metadata": {},
   "outputs": [],
   "source": [
    "image=cv2.imread(\"image.jpg\")\n",
    "gray=cv2.cvtColor(image,cv2.COLOR_BGR2GRAY)\n",
    "hsv=cv2.cvtColor(image,cv2.COLOR_BGR2HSV)\n",
    "cv2.imshow(\"Gray\",gray)\n",
    "cv2.imshow(\"HSV\",hsv)\n",
    "cv2.imshow(\"Demo\",image)\n",
    "cv2.waitKey(0)\n",
    "cv2.destroyAllWindows()"
   ]
  }
 ],
 "metadata": {
  "kernelspec": {
   "display_name": "Python 3 (ipykernel)",
   "language": "python",
   "name": "python3"
  },
  "language_info": {
   "codemirror_mode": {
    "name": "ipython",
    "version": 3
   },
   "file_extension": ".py",
   "mimetype": "text/x-python",
   "name": "python",
   "nbconvert_exporter": "python",
   "pygments_lexer": "ipython3",
   "version": "3.11.5"
  }
 },
 "nbformat": 4,
 "nbformat_minor": 5
}
